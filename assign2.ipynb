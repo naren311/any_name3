{
 "cells": [
  {
   "cell_type": "code",
   "execution_count": 2,
   "id": "b056ff4e-00aa-4e5e-b0d8-8357d66c10e2",
   "metadata": {},
   "outputs": [
    {
     "name": "stdin",
     "output_type": "stream",
     "text": [
      "enter any number 2\n",
      "enter the other number 4\n"
     ]
    },
    {
     "name": "stdout",
     "output_type": "stream",
     "text": [
      "6\n",
      "8\n",
      "-2\n",
      "0.5\n"
     ]
    }
   ],
   "source": [
    "#Calc$late the s$m, difference, prod$ct, and q$otient of two n$mbers.\n",
    "\n",
    "a=int(input(\"enter any number\"))\n",
    "b=int(input(\"enter the other number\"))\n",
    "add = a+b\n",
    "product = a*b\n",
    "difference = a-b\n",
    "div = a/b\n",
    "print(add)\n",
    "print(product)\n",
    "print(difference)\n",
    "print(div)"
   ]
  },
  {
   "cell_type": "code",
   "execution_count": null,
   "id": "0fbaad71-322a-4b1a-a78a-efabbaf86529",
   "metadata": {},
   "outputs": [],
   "source": []
  },
  {
   "cell_type": "code",
   "execution_count": 4,
   "id": "f866a24d-5533-493f-a347-c6e85ca2c354",
   "metadata": {},
   "outputs": [
    {
     "name": "stdin",
     "output_type": "stream",
     "text": [
      "enter any number 3\n",
      "enter any number 5\n"
     ]
    },
    {
     "name": "stdout",
     "output_type": "stream",
     "text": [
      "8\n"
     ]
    }
   ],
   "source": [
    "#Perform @ario$s assignment operations on a @ariable.\n",
    "a =int(input(\"enter any number\"))\n",
    "b =int(input(\"enter any number\"))\n",
    "c=a+b\n",
    "print(c)\n"
   ]
  },
  {
   "cell_type": "code",
   "execution_count": 7,
   "id": "1ffd87e9-5d64-4f15-9812-93b8798c8ae4",
   "metadata": {},
   "outputs": [
    {
     "name": "stdout",
     "output_type": "stream",
     "text": [
      "18\n"
     ]
    }
   ],
   "source": [
    "a=8\n",
    "b=10\n",
    "a +=  b\n",
    "print(a)"
   ]
  },
  {
   "cell_type": "code",
   "execution_count": 8,
   "id": "29ed8211-8813-46f4-8633-5bb6af15d0cd",
   "metadata": {},
   "outputs": [
    {
     "name": "stdout",
     "output_type": "stream",
     "text": [
      "-2\n"
     ]
    }
   ],
   "source": [
    "a=8\n",
    "b=10\n",
    "a -= b\n",
    "print(a)"
   ]
  },
  {
   "cell_type": "code",
   "execution_count": 9,
   "id": "9bac172f-c331-4919-9dfa-f1a7ad4e4b82",
   "metadata": {},
   "outputs": [
    {
     "name": "stdout",
     "output_type": "stream",
     "text": [
      "1073741824\n"
     ]
    }
   ],
   "source": [
    "a=8\n",
    "b=10\n",
    "a **=b\n",
    "print(a)\n"
   ]
  },
  {
   "cell_type": "code",
   "execution_count": 10,
   "id": "c3f7ce57-76eb-4a71-979a-e588312c5462",
   "metadata": {},
   "outputs": [
    {
     "name": "stdout",
     "output_type": "stream",
     "text": [
      "8\n"
     ]
    }
   ],
   "source": [
    "a=8\n",
    "b=10\n",
    "a %=b\n",
    "print(a)"
   ]
  },
  {
   "cell_type": "code",
   "execution_count": 11,
   "id": "e7460919-20ba-487d-b5d2-e86b182d30ea",
   "metadata": {},
   "outputs": [
    {
     "name": "stdin",
     "output_type": "stream",
     "text": [
      "enter any number: 6\n",
      "enter any number: 8\n"
     ]
    },
    {
     "name": "stdout",
     "output_type": "stream",
     "text": [
      "False\n",
      "True\n",
      "True\n",
      "False\n",
      "False\n",
      "True\n"
     ]
    }
   ],
   "source": [
    "#Compare two n$mbers and print the res$lts.\n",
    "a =int(input(\"enter any number:\"))\n",
    "b =int(input(\"enter any number:\"))\n",
    "print( a==b)\n",
    "print( a!=b)\n",
    "print( a<b)\n",
    "print( a>b)\n",
    "print(a>=b)\n",
    "print(a<=b)"
   ]
  },
  {
   "cell_type": "code",
   "execution_count": 12,
   "id": "0c805f4b-e3e8-42b0-816a-556869ff432d",
   "metadata": {},
   "outputs": [
    {
     "name": "stdout",
     "output_type": "stream",
     "text": [
      "False\n"
     ]
    }
   ],
   "source": [
    "# Check conditions $sing logical operators.\n",
    "a = True \n",
    "b = False\n",
    "c = a and b\n",
    "print(c)"
   ]
  },
  {
   "cell_type": "code",
   "execution_count": 13,
   "id": "81483c25-e8de-47ba-bc10-e10cee68fbff",
   "metadata": {},
   "outputs": [
    {
     "name": "stdout",
     "output_type": "stream",
     "text": [
      "True\n"
     ]
    }
   ],
   "source": [
    "#or\n",
    "a = True\n",
    "b = False\n",
    "c = a or b\n",
    "print(c)"
   ]
  },
  {
   "cell_type": "code",
   "execution_count": 14,
   "id": "fc853816-f1b3-4cb8-b642-fc0c4146f570",
   "metadata": {},
   "outputs": [
    {
     "data": {
      "text/plain": [
       "False"
      ]
     },
     "execution_count": 14,
     "metadata": {},
     "output_type": "execute_result"
    }
   ],
   "source": [
    "#Check the identity of @ariables.\n",
    "\n",
    "a = \"data\"\n",
    "b = \"science\"\n",
    "a is b"
   ]
  },
  {
   "cell_type": "code",
   "execution_count": 15,
   "id": "ceb8a763-4458-4cdd-949f-5c243ced7374",
   "metadata": {},
   "outputs": [
    {
     "data": {
      "text/plain": [
       "True"
      ]
     },
     "execution_count": 15,
     "metadata": {},
     "output_type": "execute_result"
    }
   ],
   "source": [
    "a = \"data\"\n",
    "b = \"science\"\n",
    "a is not b"
   ]
  },
  {
   "cell_type": "code",
   "execution_count": 19,
   "id": "608d6650-e6db-40f7-9f81-11228e881657",
   "metadata": {},
   "outputs": [
    {
     "name": "stdout",
     "output_type": "stream",
     "text": [
      "0\n",
      "14\n",
      "-11\n",
      "14\n"
     ]
    }
   ],
   "source": [
    "#Perform bitwise operations on any two integers.\n",
    "\n",
    "a = 10\n",
    "b = 4\n",
    "print( a&b)\n",
    "print( a|b)\n",
    "print( ~a)\n",
    "print( a^b)"
   ]
  },
  {
   "cell_type": "code",
   "execution_count": 22,
   "id": "cedcbebd-480e-4c4a-885b-42d7446e6adc",
   "metadata": {},
   "outputs": [
    {
     "name": "stdout",
     "output_type": "stream",
     "text": [
      "not eligible for vote\n"
     ]
    }
   ],
   "source": [
    "#Use the ternary operator to assign @al$es based on conditions.\n",
    "age = 25\n",
    "print(\"eligible for vote\") if age <18 else print(\"not eligible for vote\")\n"
   ]
  },
  {
   "cell_type": "code",
   "execution_count": 24,
   "id": "6f9ad836-c01b-4b2c-a8c7-7ed261dcb727",
   "metadata": {},
   "outputs": [
    {
     "name": "stdout",
     "output_type": "stream",
     "text": [
      "-19\n"
     ]
    }
   ],
   "source": [
    "#Use $nary operators to change the sign of a n$mber.\n",
    "\n",
    "a = 19\n",
    "a = -a\n",
    "print(a)\n"
   ]
  },
  {
   "cell_type": "code",
   "execution_count": null,
   "id": "b58eae87-0f81-45c0-a7d2-e1891792c235",
   "metadata": {},
   "outputs": [],
   "source": []
  }
 ],
 "metadata": {
  "kernelspec": {
   "display_name": "Python 3 (ipykernel)",
   "language": "python",
   "name": "python3"
  },
  "language_info": {
   "codemirror_mode": {
    "name": "ipython",
    "version": 3
   },
   "file_extension": ".py",
   "mimetype": "text/x-python",
   "name": "python",
   "nbconvert_exporter": "python",
   "pygments_lexer": "ipython3",
   "version": "3.10.8"
  }
 },
 "nbformat": 4,
 "nbformat_minor": 5
}
